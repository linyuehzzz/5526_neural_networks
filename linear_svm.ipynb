{
  "nbformat": 4,
  "nbformat_minor": 0,
  "metadata": {
    "colab": {
      "name": "linear_svm.ipynb",
      "provenance": [],
      "collapsed_sections": [],
      "toc_visible": true,
      "authorship_tag": "ABX9TyNDxOy9WLbsHrzwExk+/OQL",
      "include_colab_link": true
    },
    "kernelspec": {
      "name": "python3",
      "display_name": "Python 3"
    }
  },
  "cells": [
    {
      "cell_type": "markdown",
      "metadata": {
        "id": "view-in-github",
        "colab_type": "text"
      },
      "source": [
        "<a href=\"https://colab.research.google.com/github/linyuehzzz/5526_neural_networks/blob/master/linear_svm.ipynb\" target=\"_parent\"><img src=\"https://colab.research.google.com/assets/colab-badge.svg\" alt=\"Open In Colab\"/></a>"
      ]
    },
    {
      "cell_type": "markdown",
      "metadata": {
        "id": "gOJnVAClBAyE"
      },
      "source": [
        "##**Lab 3**\n",
        "This code trains an linear SVM to determine if a genomic sequence is an ncRNA..  \n",
        "Yue Lin (lin.3326 at osu.edu)  \n",
        "Created: 11/2/2020"
      ]
    },
    {
      "cell_type": "code",
      "metadata": {
        "id": "UFhoWl_Q_uLZ",
        "outputId": "50b19ea0-e11e-42e9-a7af-f6f3d1736769",
        "colab": {
          "base_uri": "https://localhost:8080/"
        }
      },
      "source": [
        "from google.colab import drive\n",
        "drive.mount('/content/gdrive')"
      ],
      "execution_count": 1,
      "outputs": [
        {
          "output_type": "stream",
          "text": [
            "Mounted at /content/gdrive\n"
          ],
          "name": "stdout"
        }
      ]
    },
    {
      "cell_type": "markdown",
      "metadata": {
        "id": "BHbAZRPCBazf"
      },
      "source": [
        "#### **Set up libraries**"
      ]
    },
    {
      "cell_type": "code",
      "metadata": {
        "id": "8ODMrB7nUs9B",
        "outputId": "ca7352dd-97e2-4ed8-cf10-03c23a6277d8",
        "colab": {
          "base_uri": "https://localhost:8080/"
        }
      },
      "source": [
        "!pip install libsvm"
      ],
      "execution_count": 2,
      "outputs": [
        {
          "output_type": "stream",
          "text": [
            "Collecting libsvm\n",
            "\u001b[?25l  Downloading https://files.pythonhosted.org/packages/4b/11/c7700d0cd3a21eef2d7d996256277fc640ccd4f84717c10228cb6c1567dc/libsvm-3.23.0.4.tar.gz (170kB)\n",
            "\r\u001b[K     |██                              | 10kB 15.4MB/s eta 0:00:01\r\u001b[K     |███▉                            | 20kB 1.8MB/s eta 0:00:01\r\u001b[K     |█████▊                          | 30kB 2.1MB/s eta 0:00:01\r\u001b[K     |███████▊                        | 40kB 2.4MB/s eta 0:00:01\r\u001b[K     |█████████▋                      | 51kB 2.0MB/s eta 0:00:01\r\u001b[K     |███████████▌                    | 61kB 2.3MB/s eta 0:00:01\r\u001b[K     |█████████████▌                  | 71kB 2.5MB/s eta 0:00:01\r\u001b[K     |███████████████▍                | 81kB 2.7MB/s eta 0:00:01\r\u001b[K     |█████████████████▎              | 92kB 2.9MB/s eta 0:00:01\r\u001b[K     |███████████████████▏            | 102kB 2.9MB/s eta 0:00:01\r\u001b[K     |█████████████████████▏          | 112kB 2.9MB/s eta 0:00:01\r\u001b[K     |███████████████████████         | 122kB 2.9MB/s eta 0:00:01\r\u001b[K     |█████████████████████████       | 133kB 2.9MB/s eta 0:00:01\r\u001b[K     |███████████████████████████     | 143kB 2.9MB/s eta 0:00:01\r\u001b[K     |████████████████████████████▉   | 153kB 2.9MB/s eta 0:00:01\r\u001b[K     |██████████████████████████████▊ | 163kB 2.9MB/s eta 0:00:01\r\u001b[K     |████████████████████████████████| 174kB 2.9MB/s \n",
            "\u001b[?25hBuilding wheels for collected packages: libsvm\n",
            "  Building wheel for libsvm (setup.py) ... \u001b[?25l\u001b[?25hdone\n",
            "  Created wheel for libsvm: filename=libsvm-3.23.0.4-cp36-cp36m-linux_x86_64.whl size=233323 sha256=d3cf94793c0a52b1276ba83e643ba26030c97fbe42440f6b2f5fcc9169f3888c\n",
            "  Stored in directory: /root/.cache/pip/wheels/5e/9e/b5/dbb033107407eec2f52b8cd24cf024a4b9ec8b62ea5aee995a\n",
            "Successfully built libsvm\n",
            "Installing collected packages: libsvm\n",
            "Successfully installed libsvm-3.23.0.4\n"
          ],
          "name": "stdout"
        }
      ]
    },
    {
      "cell_type": "code",
      "metadata": {
        "id": "ltKjty_PBd2i"
      },
      "source": [
        "from libsvm.svmutil import *\n",
        "from sklearn.datasets import load_svmlight_file\n",
        "import matplotlib.pyplot as plt"
      ],
      "execution_count": 169,
      "outputs": []
    },
    {
      "cell_type": "markdown",
      "metadata": {
        "id": "uJQcj95HU_hb"
      },
      "source": [
        "#### **Read training and test data**"
      ]
    },
    {
      "cell_type": "code",
      "metadata": {
        "id": "eqkdQCG1VGCA"
      },
      "source": [
        "def get_data(filename):\n",
        "    data = load_svmlight_file(filename)\n",
        "    return data"
      ],
      "execution_count": 4,
      "outputs": []
    },
    {
      "cell_type": "markdown",
      "metadata": {
        "id": "ULl4uw8GlSL9"
      },
      "source": [
        "#### **Classification using linear SVMs**"
      ]
    },
    {
      "cell_type": "code",
      "metadata": {
        "id": "uN6GpEdDlRxs"
      },
      "source": [
        "def linear_svm(train_data, c, test_data):\n",
        "  # Get data\n",
        "  train_x = train_data[0]\n",
        "  train_y = train_data[1]\n",
        "  test_x = test_data[0]\n",
        "  test_y = test_data[1]\n",
        "\n",
        "  # Train svm\n",
        "  prob = svm_problem(train_y, train_x)\n",
        "  param_str = '-t 0 -c 2e' + str(c)\n",
        "  print(\"Param: \" + param_str)\n",
        "  param = svm_parameter(param_str)\n",
        "  m = svm_train(prob, param)\n",
        "\n",
        "  # Test\n",
        "  p_label, p_acc, p_val = svm_predict(test_y, test_x, m)\n",
        "  return p_acc"
      ],
      "execution_count": 5,
      "outputs": []
    },
    {
      "cell_type": "markdown",
      "metadata": {
        "id": "FDc5wo8ibWmd"
      },
      "source": [
        "#### **Wrapper**"
      ]
    },
    {
      "cell_type": "markdown",
      "metadata": {
        "id": "U7hfOCGXx7Zl"
      },
      "source": [
        "Read training and test data"
      ]
    },
    {
      "cell_type": "code",
      "metadata": {
        "id": "UOlnLenrx88x",
        "outputId": "d499620d-f12b-4a4a-b04a-1efc6ec3479c",
        "colab": {
          "base_uri": "https://localhost:8080/"
        }
      },
      "source": [
        "%cd \"/content/gdrive/My Drive/Colab Notebooks/cse5526\"\n",
        "\n",
        "# Read training and test data\n",
        "train_file = \"ncRNA_s.train.txt\"\n",
        "test_file = \"ncRNA_s.test.txt\"\n",
        "\n",
        "train_data = get_data(train_file)\n",
        "test_data = get_data(train_file)"
      ],
      "execution_count": 7,
      "outputs": [
        {
          "output_type": "stream",
          "text": [
            "/content/gdrive/My Drive/Colab Notebooks/cse5526\n"
          ],
          "name": "stdout"
        }
      ]
    },
    {
      "cell_type": "markdown",
      "metadata": {
        "id": "sdewVPnex-9i"
      },
      "source": [
        "Classification using linear SVMs"
      ]
    },
    {
      "cell_type": "code",
      "metadata": {
        "id": "iYBdJqe4bHyI",
        "outputId": "a8b07be5-4e4b-4886-85f4-f2cb2072e2a0",
        "colab": {
          "base_uri": "https://localhost:8080/"
        }
      },
      "source": [
        "acc = []\n",
        "for c in range(-4, 9):\n",
        "  p_acc = linear_svm(train_data, c, test_data)\n",
        "  acc.append(p_acc[0])"
      ],
      "execution_count": null,
      "outputs": [
        {
          "output_type": "stream",
          "text": [
            "Param: -t 0 -c 2e-4\n",
            "Accuracy = 67.8% (1356/2000) (classification)\n",
            "Param: -t 0 -c 2e-3\n",
            "Accuracy = 67.8% (1356/2000) (classification)\n",
            "Param: -t 0 -c 2e-2\n",
            "Accuracy = 67.8% (1356/2000) (classification)\n",
            "Param: -t 0 -c 2e-1\n",
            "Accuracy = 67.8% (1356/2000) (classification)\n",
            "Param: -t 0 -c 2e0\n",
            "Accuracy = 95.3% (1906/2000) (classification)\n",
            "Param: -t 0 -c 2e1\n",
            "Accuracy = 95.15% (1903/2000) (classification)\n",
            "Param: -t 0 -c 2e2\n",
            "Accuracy = 95.2% (1904/2000) (classification)\n",
            "Param: -t 0 -c 2e3\n",
            "Accuracy = 95.25% (1905/2000) (classification)\n",
            "Param: -t 0 -c 2e4\n",
            "Accuracy = 95.25% (1905/2000) (classification)\n",
            "Param: -t 0 -c 2e5\n",
            "Accuracy = 95.4% (1908/2000) (classification)\n",
            "Param: -t 0 -c 2e6\n",
            "Accuracy = 90.5% (1810/2000) (classification)\n",
            "Param: -t 0 -c 2e7\n",
            "Accuracy = 90.95% (1819/2000) (classification)\n",
            "Param: -t 0 -c 2e8\n",
            "Accuracy = 93.55% (1871/2000) (classification)\n"
          ],
          "name": "stdout"
        }
      ]
    },
    {
      "cell_type": "markdown",
      "metadata": {
        "id": "6XkhW8_b0Orp"
      },
      "source": [
        "Plot prediction accuracy using linear SVMs"
      ]
    },
    {
      "cell_type": "code",
      "metadata": {
        "id": "hz7dTgPR2ecB",
        "outputId": "355de984-e702-47cf-a77f-756420aeeb67",
        "colab": {
          "base_uri": "https://localhost:8080/",
          "height": 296
        }
      },
      "source": [
        "cost = ['2e-4', '2e-3', '2e-2', '2e-1', '2e0', '2e1', '2e2', '2e3', '2e4', '2e5', '2e6', '2e7', '2e8']\n",
        "plt.plot(cost, acc)\n",
        "plt.xlabel('Cost')\n",
        "plt.ylabel('Accuracy')"
      ],
      "execution_count": null,
      "outputs": [
        {
          "output_type": "execute_result",
          "data": {
            "text/plain": [
              "Text(0, 0.5, 'Accuracy')"
            ]
          },
          "metadata": {
            "tags": []
          },
          "execution_count": 38
        },
        {
          "output_type": "display_data",
          "data": {
            "image/png": "[encoded data removed]",
            "text/plain": [
              "<Figure size 432x288 with 1 Axes>"
            ]
          },
          "metadata": {
            "tags": [],
            "needs_background": "light"
          }
        }
      ]
    }
  ]
}