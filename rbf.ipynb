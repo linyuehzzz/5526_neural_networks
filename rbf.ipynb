{
  "nbformat": 4,
  "nbformat_minor": 0,
  "metadata": {
    "colab": {
      "name": "rbf.ipynb",
      "provenance": [],
      "collapsed_sections": [],
      "toc_visible": true,
      "authorship_tag": "ABX9TyPCgMkdvFEOD+QUHNsIunH6",
      "include_colab_link": true
    },
    "kernelspec": {
      "name": "python3",
      "display_name": "Python 3"
    }
  },
  "cells": [
    {
      "cell_type": "markdown",
      "metadata": {
        "id": "view-in-github",
        "colab_type": "text"
      },
      "source": [
        "<a href=\"https://colab.research.google.com/github/linyuehzzz/5526_neural_networks/blob/master/rbf.ipynb\" target=\"_parent\"><img src=\"https://colab.research.google.com/assets/colab-badge.svg\" alt=\"Open In Colab\"/></a>"
      ]
    },
    {
      "cell_type": "markdown",
      "metadata": {
        "id": "6Wqc7YRdStba"
      },
      "source": [
        "##**Lab 2**\n",
        "This code implements an RBF network.  \n",
        "Yue Lin (lin.3326 at osu.edu)  \n",
        "Created: 10/3/2020"
      ]
    },
    {
      "cell_type": "code",
      "metadata": {
        "id": "GGHitQpkSS2J"
      },
      "source": [
        "from google.colab import drive\n",
        "drive.mount('/content/gdrive')"
      ],
      "execution_count": null,
      "outputs": []
    },
    {
      "cell_type": "markdown",
      "metadata": {
        "id": "SPECGrNGfAxf"
      },
      "source": [
        "#### **Set up libraries**"
      ]
    },
    {
      "cell_type": "code",
      "metadata": {
        "id": "4prr9w3OfCLB"
      },
      "source": [
        "import numpy as np\n",
        "import matplotlib.pyplot as plt"
      ],
      "execution_count": 16,
      "outputs": []
    },
    {
      "cell_type": "markdown",
      "metadata": {
        "id": "x1Yt6fBiiMcA"
      },
      "source": [
        "#### **K-means**"
      ]
    },
    {
      "cell_type": "code",
      "metadata": {
        "id": "AAzv-KAHiNDF"
      },
      "source": [
        "def kmeans(X, k):\n",
        "    \"\"\"Performs k-means clustering for 1D input\n",
        "    \n",
        "    Arguments:\n",
        "        X {ndarray} -- A Mx1 array of inputs\n",
        "        k {int} -- Number of clusters\n",
        "    \n",
        "    Returns:\n",
        "        ndarray -- A kx1 array of final cluster centers\n",
        "    \"\"\"\n",
        " \n",
        "    # randomly select initial clusters from input data\n",
        "    clusters = np.random.choice(np.squeeze(X), size=k)\n",
        "    prevClusters = clusters.copy()\n",
        "    stds = np.zeros(k)\n",
        "    converged = False\n",
        " \n",
        "    while not converged:\n",
        "        \"\"\"\n",
        "        compute distances for each cluster center to each point \n",
        "        where (distances[i, j] represents the distance between the ith point and jth cluster)\n",
        "        \"\"\"\n",
        "        distances = np.squeeze(np.abs(X[:, np.newaxis] - clusters[np.newaxis, :]))\n",
        " \n",
        "        # find the cluster that's closest to each point\n",
        "        closestCluster = np.argmin(distances, axis=1)\n",
        " \n",
        "        # update clusters by taking the mean of all of the points assigned to that cluster\n",
        "        for i in range(k):\n",
        "            pointsForCluster = X[closestCluster == i]\n",
        "            if len(pointsForCluster) > 0:\n",
        "                clusters[i] = np.mean(pointsForCluster, axis=0)\n",
        " \n",
        "        # converge if clusters haven't moved\n",
        "        converged = np.linalg.norm(clusters - prevClusters) < 1e-6\n",
        "        prevClusters = clusters.copy()\n",
        " \n",
        "    distances = np.squeeze(np.abs(X[:, np.newaxis] - clusters[np.newaxis, :]))\n",
        "    closestCluster = np.argmin(distances, axis=1)\n",
        " \n",
        "    clustersWithNoPoints = []\n",
        "    for i in range(k):\n",
        "        pointsForCluster = X[closestCluster == i]\n",
        "        if len(pointsForCluster) < 2:\n",
        "            # keep track of clusters with no points or 1 point\n",
        "            clustersWithNoPoints.append(i)\n",
        "            continue\n",
        "        else:\n",
        "            stds[i] = np.std(X[closestCluster == i])\n",
        " \n",
        "    # if there are clusters with 0 or 1 points, take the mean std of the other clusters\n",
        "    if len(clustersWithNoPoints) > 0:\n",
        "        pointsToAverage = []\n",
        "        for i in range(k):\n",
        "            if i not in clustersWithNoPoints:\n",
        "                pointsToAverage.append(X[closestCluster == i])\n",
        "        pointsToAverage = np.concatenate(pointsToAverage).ravel()\n",
        "        stds[clustersWithNoPoints] = np.mean(np.std(pointsToAverage))\n",
        " \n",
        "    return clusters, stds"
      ],
      "execution_count": 1,
      "outputs": []
    },
    {
      "cell_type": "markdown",
      "metadata": {
        "id": "7t91lUUJl_EJ"
      },
      "source": [
        "#### **RBF**"
      ]
    },
    {
      "cell_type": "code",
      "metadata": {
        "id": "WRikBP8ml_bD"
      },
      "source": [
        "def rbf(x, c, s):\n",
        "    return np.exp(-1 / (2 * s**2) * (x-c)**2)\n",
        "\n",
        "\n",
        "class RBFNet(object):\n",
        "    \"\"\"Implementation of a Radial Basis Function Network\"\"\"\n",
        "    def __init__(self, k=2, lr=0.01, epochs=10, inferStds=True, rbf=rbf):\n",
        "        self.k = k\n",
        "        self.lr = lr\n",
        "        self.epochs = epochs\n",
        "        self.rbf = rbf\n",
        "        self.inferStds = inferStds\n",
        " \n",
        "        self.w = np.random.randn(k)\n",
        "        self.b = np.random.randn(1)\n",
        "\n",
        "    def fit(self, X, y):\n",
        "        if self.inferStds:\n",
        "            # compute stds from data\n",
        "            self.centers, self.stds = kmeans(X, self.k)\n",
        "        else:\n",
        "            # use a fixed std \n",
        "            self.centers, _ = kmeans(X, self.k)\n",
        "            dMax = max([np.abs(c1 - c2) for c1 in self.centers for c2 in self.centers])\n",
        "            self.stds = np.repeat(dMax / np.sqrt(2*self.k), self.k)\n",
        "    \n",
        "        # training\n",
        "        for epoch in range(self.epochs):\n",
        "            y_pred = []\n",
        "            for i in range(X.shape[0]):\n",
        "                # forward pass\n",
        "                a = np.array([self.rbf(X[i], c, s) for c, s, in zip(self.centers, self.stds)])\n",
        "                F = a.T.dot(self.w) + self.b\n",
        "                y_pred.append(F)\n",
        "    \n",
        "                loss = (y[i] - F).flatten() ** 2\n",
        "                # print('Loss: {0:.2f}'.format(loss[0]))\n",
        "    \n",
        "                # backward pass\n",
        "                error = -(y[i] - F).flatten()\n",
        "    \n",
        "                # online update\n",
        "                self.w = self.w - self.lr * a * error\n",
        "                self.b = self.b - self.lr * error\n",
        "        return np.array(y_pred)"
      ],
      "execution_count": 24,
      "outputs": []
    },
    {
      "cell_type": "markdown",
      "metadata": {
        "id": "ABGlDG1yKp4r"
      },
      "source": [
        "#### **Wrapper**"
      ]
    },
    {
      "cell_type": "code",
      "metadata": {
        "id": "wlPEkgS6Kr2K",
        "outputId": "baf80a33-9370-4a30-becb-9e11385b991d",
        "colab": {
          "base_uri": "https://localhost:8080/",
          "height": 297
        }
      },
      "source": [
        "# sample inputs and add noise\n",
        "NUM_SAMPLES = 75\n",
        "X = np.random.uniform(0., 1., NUM_SAMPLES)\n",
        "X = np.sort(X, axis=0)\n",
        "noise = np.random.uniform(-0.1, 0.1, NUM_SAMPLES)\n",
        "y = 0.4 * np.sin(2 * np.pi * X) + 0.5 + noise\n",
        "y_true = 0.4 * np.sin(2 * np.pi * X) + 0.5\n",
        " \n",
        "rbfnet = RBFNet(k=2, lr=0.01, epochs=100, inferStds=True)\n",
        "y_pred = rbfnet.fit(X, y)\n",
        "\n",
        "plt.title('base=2, lr=0.01')\n",
        "plt.plot(X, y_true, '-o', label='True h(x)')\n",
        "plt.plot(X, y_pred, '-o', label='RBF-Net')\n",
        "plt.legend()\n",
        " \n",
        "plt.tight_layout()\n",
        "plt.show()"
      ],
      "execution_count": 28,
      "outputs": [
        {
          "output_type": "display_data",
          "data": {
            "image/png": "[encoded data removed]",
            "text/plain": [
              "<Figure size 432x288 with 1 Axes>"
            ]
          },
          "metadata": {
            "tags": [],
            "needs_background": "light"
          }
        }
      ]
    }
  ]
}