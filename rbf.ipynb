{
  "nbformat": 4,
  "nbformat_minor": 0,
  "metadata": {
    "colab": {
      "name": "rbf.ipynb",
      "provenance": [],
      "collapsed_sections": [],
      "authorship_tag": "ABX9TyPXxgmjzMwUCvlPQJGIe4Qb",
      "include_colab_link": true
    },
    "kernelspec": {
      "name": "python3",
      "display_name": "Python 3"
    }
  },
  "cells": [
    {
      "cell_type": "markdown",
      "metadata": {
        "id": "view-in-github",
        "colab_type": "text"
      },
      "source": [
        "<a href=\"https://colab.research.google.com/github/linyuehzzz/5526_neural_networks/blob/master/rbf.ipynb\" target=\"_parent\"><img src=\"https://colab.research.google.com/assets/colab-badge.svg\" alt=\"Open In Colab\"/></a>"
      ]
    },
    {
      "cell_type": "markdown",
      "metadata": {
        "id": "6Wqc7YRdStba"
      },
      "source": [
        "##**Lab 2**\n",
        "This code implements an RBF network.  \n",
        "Yue Lin (lin.3326 at osu.edu)  \n",
        "Created: 10/3/2020"
      ]
    },
    {
      "cell_type": "code",
      "metadata": {
        "id": "GGHitQpkSS2J"
      },
      "source": [
        "from google.colab import drive\n",
        "drive.mount('/content/gdrive')"
      ],
      "execution_count": null,
      "outputs": []
    },
    {
      "cell_type": "markdown",
      "metadata": {
        "id": "SPECGrNGfAxf"
      },
      "source": [
        "#### **Set up libraries**"
      ]
    },
    {
      "cell_type": "code",
      "metadata": {
        "id": "4prr9w3OfCLB"
      },
      "source": [
        "from random import *\n",
        "from math import *\n",
        "import numpy as np"
      ],
      "execution_count": 6,
      "outputs": []
    },
    {
      "cell_type": "markdown",
      "metadata": {
        "id": "aybBFtePe-qP"
      },
      "source": [
        "#### **Generate training data**"
      ]
    },
    {
      "cell_type": "code",
      "metadata": {
        "id": "kNc-CEXUfPBY",
        "outputId": "54c35037-4889-4db4-dea0-495a5ba2cd5b",
        "colab": {
          "base_uri": "https://localhost:8080/",
          "height": 55
        }
      },
      "source": [
        "def generate_data(n):\n",
        "  x = y_bar = []\n",
        "  for i in range(n):\n",
        "    x_i = random()\n",
        "    y_i = 0.5 + 0.4 * sin(2 * pi * x_i)\n",
        "    y_i_bar = y_i + uniform(-0.1, 0.1)\n",
        "    x.append(x_i)\n",
        "    y_bar.append(y_i_bar)\n",
        "  return x, y_bar\n",
        "\n",
        "n = 75\n",
        "x, y_bar = generate_data(n)\n",
        "print(x[:5], y_bar[:5])"
      ],
      "execution_count": 7,
      "outputs": [
        {
          "output_type": "stream",
          "text": [
            "[0.15154355964159383, 0.8774381121963872, 0.47424022042811187, 0.4662307924303125, 0.5912262746716566] [0.15154355964159383, 0.8774381121963872, 0.47424022042811187, 0.4662307924303125, 0.5912262746716566]\n"
          ],
          "name": "stdout"
        }
      ]
    },
    {
      "cell_type": "markdown",
      "metadata": {
        "id": "x1Yt6fBiiMcA"
      },
      "source": [
        "#### **K-means**"
      ]
    },
    {
      "cell_type": "code",
      "metadata": {
        "id": "AAzv-KAHiNDF"
      },
      "source": [
        "def get_distance(x1, x2):\n",
        "    sum = 0\n",
        "    for i in range(len(x1)):\n",
        "        sum += (x1[i] - x2[i]) ** 2\n",
        "    return np.sqrt(sum)\n",
        "\n",
        "\n",
        "def kmeans(X, k, max_iters):\n",
        "    centroids = X[np.random.choice(range(len(X)), k, replace=False)]\n",
        "    converged = False\n",
        "    current_iter = 0\n",
        "\n",
        "    while (not converged) and (current_iter < max_iters):\n",
        "        cluster_list = [[] for i in range(len(centroids))]\n",
        "        for x in X:  # Go through each data point\n",
        "            distances_list = []\n",
        "            for c in centroids:\n",
        "                distances_list.append(get_distance(c, x))\n",
        "            cluster_list[int(np.argmin(distances_list))].append(x)\n",
        "        cluster_list = list((filter(None, cluster_list)))\n",
        "        prev_centroids = centroids.copy()\n",
        "        centroids = []\n",
        "\n",
        "        for j in range(len(cluster_list)):\n",
        "            centroids.append(np.mean(cluster_list[j], axis=0))\n",
        "        pattern = np.abs(np.sum(prev_centroids) - np.sum(centroids))\n",
        "        print('K-MEANS: ', int(pattern))\n",
        "        converged = (pattern == 0)\n",
        "        current_iter += 1\n",
        "    return np.array(centroids), [np.std(x) for x in cluster_list]"
      ],
      "execution_count": null,
      "outputs": []
    }
  ]
}