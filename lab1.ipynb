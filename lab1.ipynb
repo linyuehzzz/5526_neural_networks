{
  "nbformat": 4,
  "nbformat_minor": 0,
  "metadata": {
    "colab": {
      "name": "lab1.ipynb",
      "provenance": [],
      "collapsed_sections": [],
      "toc_visible": true,
      "authorship_tag": "ABX9TyNybCM7mxwK+ENW8veaUqDf",
      "include_colab_link": true
    },
    "kernelspec": {
      "name": "python3",
      "display_name": "Python 3"
    }
  },
  "cells": [
    {
      "cell_type": "markdown",
      "metadata": {
        "id": "view-in-github",
        "colab_type": "text"
      },
      "source": [
        "<a href=\"https://colab.research.google.com/github/linyuehzzz/5526_neural_networks/blob/master/lab1.ipynb\" target=\"_parent\"><img src=\"https://colab.research.google.com/assets/colab-badge.svg\" alt=\"Open In Colab\"/></a>"
      ]
    },
    {
      "cell_type": "markdown",
      "metadata": {
        "id": "CLJhv1Y15MCg",
        "colab_type": "text"
      },
      "source": [
        "##**Lab 1**\n",
        "This code implements a two-layer perceptron with the backpropagation algorithm to solve the parity problem.  \n",
        "Yue Lin (lin.3326 at osu.edu)  \n",
        "Created: 9/22/2020"
      ]
    },
    {
      "cell_type": "code",
      "metadata": {
        "id": "xIrvjAygIZpk",
        "colab_type": "code",
        "colab": {}
      },
      "source": [
        "from google.colab import drive\n",
        "drive.mount('/content/gdrive')"
      ],
      "execution_count": null,
      "outputs": []
    },
    {
      "cell_type": "markdown",
      "metadata": {
        "id": "qZfCMz4mFrKg",
        "colab_type": "text"
      },
      "source": [
        "#### **Set up libraries**"
      ]
    },
    {
      "cell_type": "code",
      "metadata": {
        "id": "ogeGJW01Ft-X",
        "colab_type": "code",
        "colab": {}
      },
      "source": [
        "from random import seed, randrange, uniform"
      ],
      "execution_count": null,
      "outputs": []
    },
    {
      "cell_type": "markdown",
      "metadata": {
        "id": "cqrVmS7mIrIU",
        "colab_type": "text"
      },
      "source": [
        "#### **Generate training data**"
      ]
    },
    {
      "cell_type": "code",
      "metadata": {
        "id": "cVq3ETC8I7J8",
        "colab_type": "code",
        "colab": {
          "base_uri": "https://localhost:8080/",
          "height": 52
        },
        "outputId": "98577ffb-b423-4ad4-bc8d-d290a47ec08e"
      },
      "source": [
        "def generate_data(n_inputs, n):\n",
        "  data_x = []\n",
        "  data_y = []\n",
        "  for i in range(n):\n",
        "    x = []\n",
        "    for j in range(n_inputs):\n",
        "      x.append(randrange(2))\n",
        "    data_x.append(x)\n",
        "\n",
        "    if x.count(1) % 2 == 0:\n",
        "      data_y.append(0)\n",
        "    else:\n",
        "      data_y.append(1)\n",
        "\n",
        "  return data_x, data_y\n",
        "\n",
        "\n",
        "data_x, data_y = generate_data(4, 5)\n",
        "print(data_x)\n",
        "print(data_y)"
      ],
      "execution_count": 21,
      "outputs": [
        {
          "output_type": "stream",
          "text": [
            "[[1, 1, 1, 0], [1, 0, 0, 1], [0, 1, 1, 0], [1, 1, 1, 1], [1, 0, 1, 1]]\n",
            "[1, 0, 0, 0, 1]\n"
          ],
          "name": "stdout"
        }
      ]
    },
    {
      "cell_type": "markdown",
      "metadata": {
        "id": "RmrjfG8aFulk",
        "colab_type": "text"
      },
      "source": [
        "#### **Initialize network**"
      ]
    },
    {
      "cell_type": "code",
      "metadata": {
        "id": "16Lgc_AZC1Rv",
        "colab_type": "code",
        "colab": {}
      },
      "source": [
        "def init_net(n_inputs, n_hidden, n_outputs):\n",
        "  net = list()\n",
        "  hidden_layer = [{'weights':[uniform(-1, 1) for i in range(n_inputs + 1)]} for i in range(n_hidden)]\n",
        "  net.append(hidden_layer)\n",
        "  output_layer = [{'weights':[uniform(-1, 1) for i in range(n_hidden + 1)]} for i in range(n_outputs)]\n",
        "  net.append(output_layer)\n",
        "  return net\n",
        "\n",
        "\n",
        "seed(1)\n",
        "net = init_net(4, 4, 1)\n",
        "for layer in net:\n",
        "  print(layer)"
      ],
      "execution_count": null,
      "outputs": []
    },
    {
      "cell_type": "markdown",
      "metadata": {
        "id": "rYybqFCpQolO",
        "colab_type": "text"
      },
      "source": [
        "#### **Define activation function**"
      ]
    },
    {
      "cell_type": "code",
      "metadata": {
        "id": "EmoJPJyzRKI0",
        "colab_type": "code",
        "colab": {}
      },
      "source": [
        "def activate(weights, inputs):\n",
        "  # activation function: logistic sigmoid with a = 1\n",
        "  activation = weights[-1]\n",
        "  for i in range(len(weights)-1):\n",
        "    activation += weights[i] * inputs[i]\n",
        "  return 1.0 / (1.0 + exp(-activation))"
      ],
      "execution_count": null,
      "outputs": []
    }
  ]
}