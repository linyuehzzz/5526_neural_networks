{
  "nbformat": 4,
  "nbformat_minor": 0,
  "metadata": {
    "colab": {
      "name": "lab1.ipynb",
      "provenance": [],
      "collapsed_sections": [],
      "toc_visible": true,
      "authorship_tag": "ABX9TyMREEsjcbIUE9XgIIH6/dIs",
      "include_colab_link": true
    },
    "kernelspec": {
      "name": "python3",
      "display_name": "Python 3"
    }
  },
  "cells": [
    {
      "cell_type": "markdown",
      "metadata": {
        "id": "view-in-github",
        "colab_type": "text"
      },
      "source": [
        "<a href=\"https://colab.research.google.com/github/linyuehzzz/5526_neural_networks/blob/master/lab1.ipynb\" target=\"_parent\"><img src=\"https://colab.research.google.com/assets/colab-badge.svg\" alt=\"Open In Colab\"/></a>"
      ]
    },
    {
      "cell_type": "markdown",
      "metadata": {
        "id": "CLJhv1Y15MCg",
        "colab_type": "text"
      },
      "source": [
        "##**Lab 1**\n",
        "This code implements a two-layer perceptron with the backpropagation algorithm to solve the parity problem.  \n",
        "Yue Lin (lin.3326 at osu.edu)  \n",
        "Created: 9/22/2020"
      ]
    },
    {
      "cell_type": "code",
      "metadata": {
        "id": "xIrvjAygIZpk",
        "colab_type": "code",
        "colab": {}
      },
      "source": [
        "from google.colab import drive\n",
        "drive.mount('/content/gdrive')"
      ],
      "execution_count": null,
      "outputs": []
    },
    {
      "cell_type": "markdown",
      "metadata": {
        "id": "qZfCMz4mFrKg",
        "colab_type": "text"
      },
      "source": [
        "#### **Set up libraries**"
      ]
    },
    {
      "cell_type": "code",
      "metadata": {
        "id": "ogeGJW01Ft-X",
        "colab_type": "code",
        "colab": {}
      },
      "source": [
        "from random import seed, randrange, uniform\n",
        "from math import exp"
      ],
      "execution_count": null,
      "outputs": []
    },
    {
      "cell_type": "markdown",
      "metadata": {
        "id": "cqrVmS7mIrIU",
        "colab_type": "text"
      },
      "source": [
        "#### **Generate training data**"
      ]
    },
    {
      "cell_type": "code",
      "metadata": {
        "id": "cVq3ETC8I7J8",
        "colab_type": "code",
        "colab": {}
      },
      "source": [
        "def generate_data(n_inputs, n):\n",
        "  data = []\n",
        "  for i in range(n):\n",
        "    x = []\n",
        "    for j in range(n_inputs):\n",
        "      x.append(randrange(2))\n",
        "    if x.count(1) % 2 == 0:\n",
        "      x.append(0)\n",
        "    else:\n",
        "      x.append(1)\n",
        "    data.append(x)\n",
        "  return data"
      ],
      "execution_count": 50,
      "outputs": []
    },
    {
      "cell_type": "markdown",
      "metadata": {
        "id": "RmrjfG8aFulk",
        "colab_type": "text"
      },
      "source": [
        "#### **Initialize network**"
      ]
    },
    {
      "cell_type": "code",
      "metadata": {
        "id": "16Lgc_AZC1Rv",
        "colab_type": "code",
        "colab": {}
      },
      "source": [
        "def init_net(n_inputs, n_hidden, n_outputs):\n",
        "  net = list()\n",
        "  hidden_layer = [{'w':[uniform(-1, 1) for i in range(n_inputs + 1)]} for i in range(n_hidden)]\n",
        "  net.append(hidden_layer)\n",
        "  output_layer = [{'w':[uniform(-1, 1) for i in range(n_hidden + 1)]} for i in range(n_outputs)]\n",
        "  net.append(output_layer)\n",
        "  return net"
      ],
      "execution_count": null,
      "outputs": []
    },
    {
      "cell_type": "markdown",
      "metadata": {
        "id": "rYybqFCpQolO",
        "colab_type": "text"
      },
      "source": [
        "#### **Define activation function**"
      ]
    },
    {
      "cell_type": "code",
      "metadata": {
        "id": "EmoJPJyzRKI0",
        "colab_type": "code",
        "colab": {}
      },
      "source": [
        "def transfer(w, inputs):\n",
        "  # activation function: logistic sigmoid with a = 1\n",
        "  v = w[-1]\n",
        "  for i in range(len(w)-1):\n",
        "    v += w[i] * inputs[i]\n",
        "  phi = 1. / (1. + exp(-v))\n",
        "  return phi"
      ],
      "execution_count": 52,
      "outputs": []
    },
    {
      "cell_type": "markdown",
      "metadata": {
        "id": "z9Hji5R2Te4R",
        "colab_type": "text"
      },
      "source": [
        "#### **Forward propagate**"
      ]
    },
    {
      "cell_type": "code",
      "metadata": {
        "id": "41H09uNHTdvL",
        "colab_type": "code",
        "colab": {}
      },
      "source": [
        "def fwd_prop(net, row):\n",
        "  inputs = row\n",
        "  for layer in net:\n",
        "    new_inputs = []\n",
        "    for neuron in layer:\n",
        "      neuron['y'] = transfer(neuron['w'], inputs)\n",
        "      new_inputs.append(neuron['y'])\n",
        "    inputs = new_inputs\n",
        "  return inputs"
      ],
      "execution_count": 69,
      "outputs": []
    },
    {
      "cell_type": "markdown",
      "metadata": {
        "id": "ox4b7KY_gTVr",
        "colab_type": "text"
      },
      "source": [
        "#### **Backward propagate error**"
      ]
    },
    {
      "cell_type": "code",
      "metadata": {
        "id": "YqyIMImagQLs",
        "colab_type": "code",
        "colab": {}
      },
      "source": [
        "def bwd_prop_err(net, d):\n",
        "  for i in reversed(range(len(net))):\n",
        "    layer = net[i]\n",
        "    errors = list()\n",
        "    if i != len(net)-1:\n",
        "      for j in range(len(layer)):\n",
        "        error = 0.\n",
        "        for neuron in net[i + 1]:\n",
        "          error += (neuron['w'][j] * neuron['delta'])\n",
        "        errors.append(error)\n",
        "    else:\n",
        "      for j in range(len(layer)):\n",
        "        neuron = layer[j]\n",
        "        errors.append(d[j] - neuron['y'])\n",
        "    \n",
        "    for j in range(len(layer)):\n",
        "      neuron = layer[j]\n",
        "      phi_d = neuron['y'] * (1. - neuron['y'])\n",
        "      neuron['delta'] = errors[j] * phi_d"
      ],
      "execution_count": 68,
      "outputs": []
    },
    {
      "cell_type": "markdown",
      "metadata": {
        "id": "jCdmXESDkxkU",
        "colab_type": "text"
      },
      "source": [
        "#### **Update weights**"
      ]
    },
    {
      "cell_type": "code",
      "metadata": {
        "id": "KMJbhNQbk3xv",
        "colab_type": "code",
        "colab": {}
      },
      "source": [
        "def update_weights(net, row, lr):\n",
        "  for i in range(len(net)):\n",
        "    inputs = row[:-1]\n",
        "    if i != 0:\n",
        "      inputs = [neuron['y'] for neuron in net[i - 1]]\n",
        "    for neuron in net[i]:\n",
        "      for j in range(len(inputs)):\n",
        "        neuron['w'][j] += lr * neuron['delta'] * inputs[j]\n",
        "      neuron['w'][-1] += lr * neuron['delta']"
      ],
      "execution_count": 77,
      "outputs": []
    },
    {
      "cell_type": "markdown",
      "metadata": {
        "id": "a6sUI4At0nFT",
        "colab_type": "text"
      },
      "source": [
        "#### **Train**"
      ]
    },
    {
      "cell_type": "code",
      "metadata": {
        "id": "YjRep7ym0q9E",
        "colab_type": "code",
        "colab": {}
      },
      "source": [
        "def train(net, data, lr, epoch, n_outputs):\n",
        "  for epoch in range(epoch):\n",
        "    sum_error = 0\n",
        "    for row in data:\n",
        "      outputs = fwd_prop(net, row)\n",
        "      d = [0 for i in range(n_outputs)]\n",
        "      d[row[-1]] = 1\n",
        "      sum_error += sum([(d[i]-outputs[i])**2 for i in range(len(d))])\n",
        "      bwd_prop_err(net, d)\n",
        "      update_weights(net, row, lr)\n",
        "    print('>epoch=%d, lrate=%.3f, error=%.3f' % (epoch, lr, sum_error))"
      ],
      "execution_count": 78,
      "outputs": []
    },
    {
      "cell_type": "markdown",
      "metadata": {
        "id": "yhxHi56QUNpF",
        "colab_type": "text"
      },
      "source": [
        "#### **Wrapper**"
      ]
    },
    {
      "cell_type": "code",
      "metadata": {
        "id": "8d9L2zeGURQW",
        "colab_type": "code",
        "colab": {
          "base_uri": "https://localhost:8080/",
          "height": 436
        },
        "outputId": "f9697787-b7ae-482b-d3b3-754bd42dbf46"
      },
      "source": [
        "n = 2 # Number of training samples\n",
        "n_inputs = 4  # Number of input neurons\n",
        "n_hidden = 4  # Number of hidden neurons\n",
        "n_outputs = 1 # Number of output neurons\n",
        "\n",
        "# Generate training data\n",
        "data = generate_data(n_inputs, n)\n",
        "print(data)\n",
        "\n",
        "# Initialize network\n",
        "seed(1)\n",
        "net = init_net(n_inputs, n_hidden, n_outputs)\n",
        "\n",
        "# Train\n",
        "train(net, data, 0.5, 20, n_outputs)\n",
        "for layer in network:\n",
        "\tprint(layer)"
      ],
      "execution_count": 80,
      "outputs": [
        {
          "output_type": "stream",
          "text": [
            "[[1, 0, 0, 1, 0], [1, 0, 1, 0, 0]]\n",
            ">epoch=0, lrate=0.500, error=0.736\n",
            ">epoch=1, lrate=0.500, error=0.575\n",
            ">epoch=2, lrate=0.500, error=0.444\n",
            ">epoch=3, lrate=0.500, error=0.345\n",
            ">epoch=4, lrate=0.500, error=0.272\n",
            ">epoch=5, lrate=0.500, error=0.219\n",
            ">epoch=6, lrate=0.500, error=0.180\n",
            ">epoch=7, lrate=0.500, error=0.151\n",
            ">epoch=8, lrate=0.500, error=0.128\n",
            ">epoch=9, lrate=0.500, error=0.111\n",
            ">epoch=10, lrate=0.500, error=0.097\n",
            ">epoch=11, lrate=0.500, error=0.086\n",
            ">epoch=12, lrate=0.500, error=0.077\n",
            ">epoch=13, lrate=0.500, error=0.069\n",
            ">epoch=14, lrate=0.500, error=0.063\n",
            ">epoch=15, lrate=0.500, error=0.057\n",
            ">epoch=16, lrate=0.500, error=0.053\n",
            ">epoch=17, lrate=0.500, error=0.049\n",
            ">epoch=18, lrate=0.500, error=0.045\n",
            ">epoch=19, lrate=0.500, error=0.042\n",
            "[{'weights': [-0.7312715117751976, 0.6948674738744653, 0.5275492379532281, -0.4898619485211566, -0.009129825816118098]}, {'weights': [-0.10101787042252375, 0.3031859454455259, 0.5774467022710263, -0.8122808264515302, -0.9433050469559874]}, {'weights': [0.6715302078397394, -0.13446586418989326, 0.524560164915884, -0.9957878932977786, -0.10922561189039715]}, {'weights': [0.44308006468156513, -0.5424755574590947, 0.8905413911078446, 0.8028549152229671, -0.9388200339328929]}]\n",
            "[{'weights': [-0.9491082780130784, 0.08282494558699316, 0.8782983255570211, -0.23759152462357513, -0.5668012057387732]}]\n"
          ],
          "name": "stdout"
        }
      ]
    }
  ]
}