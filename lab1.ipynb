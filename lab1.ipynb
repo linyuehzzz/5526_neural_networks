{
  "nbformat": 4,
  "nbformat_minor": 0,
  "metadata": {
    "colab": {
      "name": "lab1.ipynb",
      "provenance": [],
      "collapsed_sections": [],
      "toc_visible": true,
      "authorship_tag": "ABX9TyOwsicBzsTTG78H6VPfDehO",
      "include_colab_link": true
    },
    "kernelspec": {
      "name": "python3",
      "display_name": "Python 3"
    }
  },
  "cells": [
    {
      "cell_type": "markdown",
      "metadata": {
        "id": "view-in-github",
        "colab_type": "text"
      },
      "source": [
        "<a href=\"https://colab.research.google.com/github/linyuehzzz/5526_neural_networks/blob/master/lab1.ipynb\" target=\"_parent\"><img src=\"https://colab.research.google.com/assets/colab-badge.svg\" alt=\"Open In Colab\"/></a>"
      ]
    },
    {
      "cell_type": "markdown",
      "metadata": {
        "id": "CLJhv1Y15MCg",
        "colab_type": "text"
      },
      "source": [
        "##**Lab 1**\n",
        "This code implements a two-layer perceptron with the backpropagation algorithm to solve the parity problem.  \n",
        "Yue Lin (lin.3326 at osu.edu)  \n",
        "Created: 9/22/2020"
      ]
    },
    {
      "cell_type": "code",
      "metadata": {
        "id": "xIrvjAygIZpk",
        "colab_type": "code",
        "colab": {}
      },
      "source": [
        "from google.colab import drive\n",
        "drive.mount('/content/gdrive')"
      ],
      "execution_count": null,
      "outputs": []
    },
    {
      "cell_type": "markdown",
      "metadata": {
        "id": "qZfCMz4mFrKg",
        "colab_type": "text"
      },
      "source": [
        "#### **Set up libraries**"
      ]
    },
    {
      "cell_type": "code",
      "metadata": {
        "id": "ogeGJW01Ft-X",
        "colab_type": "code",
        "colab": {}
      },
      "source": [
        "from random import seed, randrange, uniform\n",
        "from math import exp"
      ],
      "execution_count": null,
      "outputs": []
    },
    {
      "cell_type": "markdown",
      "metadata": {
        "id": "cqrVmS7mIrIU",
        "colab_type": "text"
      },
      "source": [
        "#### **Generate training data**"
      ]
    },
    {
      "cell_type": "code",
      "metadata": {
        "id": "cVq3ETC8I7J8",
        "colab_type": "code",
        "colab": {}
      },
      "source": [
        "def generate_data(n_inputs, n):\n",
        "  data = []\n",
        "  for i in range(n):\n",
        "    x = []\n",
        "    for j in range(n_inputs):\n",
        "      x.append(randrange(2))\n",
        "    if x.count(1) % 2 == 0:\n",
        "      x.append(0)\n",
        "    else:\n",
        "      x.append(1)\n",
        "    data.append(x)\n",
        "  return data"
      ],
      "execution_count": 50,
      "outputs": []
    },
    {
      "cell_type": "markdown",
      "metadata": {
        "id": "RmrjfG8aFulk",
        "colab_type": "text"
      },
      "source": [
        "#### **Initialize network**"
      ]
    },
    {
      "cell_type": "code",
      "metadata": {
        "id": "16Lgc_AZC1Rv",
        "colab_type": "code",
        "colab": {}
      },
      "source": [
        "def init_net(n_inputs, n_hidden, n_outputs):\n",
        "  net = list()\n",
        "  hidden_layer = [{'w':[uniform(-1, 1) for i in range(n_inputs + 1)]} for i in range(n_hidden)]\n",
        "  net.append(hidden_layer)\n",
        "  output_layer = [{'w':[uniform(-1, 1) for i in range(n_hidden + 1)]} for i in range(n_outputs)]\n",
        "  net.append(output_layer)\n",
        "  return net"
      ],
      "execution_count": null,
      "outputs": []
    },
    {
      "cell_type": "markdown",
      "metadata": {
        "id": "rYybqFCpQolO",
        "colab_type": "text"
      },
      "source": [
        "#### **Define activation function**"
      ]
    },
    {
      "cell_type": "code",
      "metadata": {
        "id": "EmoJPJyzRKI0",
        "colab_type": "code",
        "colab": {}
      },
      "source": [
        "def transfer(w, inputs):\n",
        "  # activation function: logistic sigmoid with a = 1\n",
        "  v = w[-1]\n",
        "  for i in range(len(w)-1):\n",
        "    v += w[i] * inputs[i]\n",
        "  phi = 1. / (1. + exp(-v))\n",
        "  return phi"
      ],
      "execution_count": 52,
      "outputs": []
    },
    {
      "cell_type": "markdown",
      "metadata": {
        "id": "z9Hji5R2Te4R",
        "colab_type": "text"
      },
      "source": [
        "#### **Forward propagate**"
      ]
    },
    {
      "cell_type": "code",
      "metadata": {
        "id": "41H09uNHTdvL",
        "colab_type": "code",
        "colab": {}
      },
      "source": [
        "def fwd_prop(net, row):\n",
        "  inputs = row\n",
        "  for layer in net:\n",
        "    new_inputs = []\n",
        "    for neuron in layer:\n",
        "      neuron['y'] = transfer(neuron['w'], inputs)\n",
        "      new_inputs.append(neuron['y'])\n",
        "    inputs = new_inputs\n",
        "  return inputs"
      ],
      "execution_count": 69,
      "outputs": []
    },
    {
      "cell_type": "markdown",
      "metadata": {
        "id": "ox4b7KY_gTVr",
        "colab_type": "text"
      },
      "source": [
        "#### **Backward propagate error**"
      ]
    },
    {
      "cell_type": "code",
      "metadata": {
        "id": "YqyIMImagQLs",
        "colab_type": "code",
        "colab": {}
      },
      "source": [
        "def bwd_prop_err(net, d):\n",
        "  for i in reversed(range(len(net))):\n",
        "    layer = net[i]\n",
        "    errors = list()\n",
        "    if i != len(net)-1:\n",
        "      for j in range(len(layer)):\n",
        "        error = 0.\n",
        "        for neuron in net[i + 1]:\n",
        "          error += (neuron['w'][j] * neuron['delta'])\n",
        "        errors.append(error)\n",
        "    else:\n",
        "      for j in range(len(layer)):\n",
        "        neuron = layer[j]\n",
        "        errors.append(d[j] - neuron['y'])\n",
        "    \n",
        "    for j in range(len(layer)):\n",
        "      neuron = layer[j]\n",
        "      phi_d = neuron['y'] * (1. - neuron['y'])\n",
        "      neuron['delta'] = errors[j] * phi_d"
      ],
      "execution_count": 68,
      "outputs": []
    },
    {
      "cell_type": "markdown",
      "metadata": {
        "id": "yhxHi56QUNpF",
        "colab_type": "text"
      },
      "source": [
        "#### **Wrapper**"
      ]
    },
    {
      "cell_type": "code",
      "metadata": {
        "id": "8d9L2zeGURQW",
        "colab_type": "code",
        "colab": {
          "base_uri": "https://localhost:8080/",
          "height": 107
        },
        "outputId": "6a42842f-8673-4c3b-ce4e-618ed79f9a67"
      },
      "source": [
        "n = 2 # Number of training samples\n",
        "n_inputs = 4  # Number of input neurons\n",
        "n_hidden = 4  # Number of hidden neurons\n",
        "n_outputs = 1 # Number of output neurons\n",
        "\n",
        "# Generate training data\n",
        "data = generate_data(n_inputs, n)\n",
        "print(data)\n",
        "\n",
        "# Initialize network\n",
        "seed(1)\n",
        "net = init_net(n_inputs, n_hidden, n_outputs)\n",
        "\n",
        "\n",
        "for row in data:\n",
        "  output = fwd_prop(net, row)\n",
        "print(net)\n",
        "\n",
        "d = [0, 0]\n",
        "bwd_prop_err(net, d)\n",
        "for layer in net:\n",
        "\tprint(layer)"
      ],
      "execution_count": 75,
      "outputs": [
        {
          "output_type": "stream",
          "text": [
            "[[1, 0, 0, 1, 0], [1, 0, 1, 0, 0]]\n",
            "[[{'w': [-0.7312715117751976, 0.6948674738744653, 0.5275492379532281, -0.4898619485211566, -0.009129825816118098], 'y': 0.4469869748679247}, {'w': [-0.10101787042252375, 0.3031859454455259, 0.5774467022710263, -0.8122808264515302, -0.9433050469559874], 'y': 0.3853558675832647}, {'w': [0.6715302078397394, -0.13446586418989326, 0.524560164915884, -0.9957878932977786, -0.10922561189039715], 'y': 0.7477908760062545}, {'w': [0.44308006468156513, -0.5424755574590947, 0.8905413911078446, 0.8028549152229671, -0.9388200339328929], 'y': 0.5974380075491021}], [{'w': [-0.9491082780130784, 0.08282494558699316, 0.8782983255570211, -0.23759152462357513, -0.5668012057387732], 'y': 0.39072020078668285}]]\n",
            "[{'w': [-0.7312715117751976, 0.6948674738744653, 0.5275492379532281, -0.4898619485211566, -0.009129825816118098], 'y': 0.4469869748679247, 'delta': 0.02182199740697194}, {'w': [-0.10101787042252375, 0.3031859454455259, 0.5774467022710263, -0.8122808264515302, -0.9433050469559874], 'y': 0.3853558675832647, 'delta': -0.0018247164427737208}, {'w': [0.6715302078397394, -0.13446586418989326, 0.524560164915884, -0.9957878932977786, -0.10922561189039715], 'y': 0.7477908760062545, 'delta': -0.015407476731257164}, {'w': [0.44308006468156513, -0.5424755574590947, 0.8905413911078446, 0.8028549152229671, -0.9388200339328929], 'y': 0.5974380075491021, 'delta': 0.005315022059882888}]\n",
            "[{'w': [-0.9491082780130784, 0.08282494558699316, 0.8782983255570211, -0.23759152462357513, -0.5668012057387732], 'y': 0.39072020078668285, 'delta': -0.09301404044392947}]\n"
          ],
          "name": "stdout"
        }
      ]
    }
  ]
}