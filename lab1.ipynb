{
  "nbformat": 4,
  "nbformat_minor": 0,
  "metadata": {
    "colab": {
      "name": "lab1.ipynb",
      "provenance": [],
      "collapsed_sections": [],
      "toc_visible": true,
      "authorship_tag": "ABX9TyNOqMRTGfGZ9xE/AtBgU4Hk",
      "include_colab_link": true
    },
    "kernelspec": {
      "name": "python3",
      "display_name": "Python 3"
    }
  },
  "cells": [
    {
      "cell_type": "markdown",
      "metadata": {
        "id": "view-in-github",
        "colab_type": "text"
      },
      "source": [
        "<a href=\"https://colab.research.google.com/github/linyuehzzz/5526_neural_networks/blob/master/lab1.ipynb\" target=\"_parent\"><img src=\"https://colab.research.google.com/assets/colab-badge.svg\" alt=\"Open In Colab\"/></a>"
      ]
    },
    {
      "cell_type": "markdown",
      "metadata": {
        "id": "CLJhv1Y15MCg"
      },
      "source": [
        "##**Lab 1**\n",
        "This code implements a two-layer perceptron with the backpropagation algorithm to solve the parity problem.  \n",
        "Yue Lin (lin.3326 at osu.edu)  \n",
        "Created: 9/22/2020"
      ]
    },
    {
      "cell_type": "code",
      "metadata": {
        "id": "xIrvjAygIZpk",
        "outputId": "8f1c2ecb-541c-4e4e-a632-ce5dca304446",
        "colab": {
          "base_uri": "https://localhost:8080/",
          "height": 35
        }
      },
      "source": [
        "from google.colab import drive\n",
        "drive.mount('/content/gdrive')"
      ],
      "execution_count": 77,
      "outputs": [
        {
          "output_type": "stream",
          "text": [
            "Mounted at /content/gdrive\n"
          ],
          "name": "stdout"
        }
      ]
    },
    {
      "cell_type": "markdown",
      "metadata": {
        "id": "qZfCMz4mFrKg"
      },
      "source": [
        "#### **Set up libraries**"
      ]
    },
    {
      "cell_type": "code",
      "metadata": {
        "id": "ogeGJW01Ft-X"
      },
      "source": [
        "from random import seed, randrange, uniform, shuffle\n",
        "from math import exp\n",
        "import csv"
      ],
      "execution_count": 78,
      "outputs": []
    },
    {
      "cell_type": "markdown",
      "metadata": {
        "id": "cqrVmS7mIrIU"
      },
      "source": [
        "#### **Generate training data**"
      ]
    },
    {
      "cell_type": "code",
      "metadata": {
        "id": "cVq3ETC8I7J8"
      },
      "source": [
        "def generate_data(n_inputs, n):\n",
        "  data = []\n",
        "  for i in range(n):\n",
        "    x = []\n",
        "    for j in range(n_inputs):\n",
        "      x.append(randrange(2))\n",
        "    if x.count(1) % 2 == 0:\n",
        "      x.append(0)\n",
        "    else:\n",
        "      x.append(1)\n",
        "    data.append(x)\n",
        "  return data"
      ],
      "execution_count": 3,
      "outputs": []
    },
    {
      "cell_type": "markdown",
      "metadata": {
        "id": "RmrjfG8aFulk"
      },
      "source": [
        "#### **Initialize network**"
      ]
    },
    {
      "cell_type": "code",
      "metadata": {
        "id": "16Lgc_AZC1Rv"
      },
      "source": [
        "def init_net(n_inputs, n_hidden, n_outputs):\n",
        "  net = list()\n",
        "  hidden_layer = [{'w':[uniform(-1, 1) for i in range(n_inputs + 1)]} for i in range(n_hidden)]\n",
        "  net.append(hidden_layer)\n",
        "  output_layer = [{'w':[uniform(-1, 1) for i in range(n_hidden + 1)]} for i in range(n_outputs)]\n",
        "  net.append(output_layer)\n",
        "  return net"
      ],
      "execution_count": 4,
      "outputs": []
    },
    {
      "cell_type": "markdown",
      "metadata": {
        "id": "rYybqFCpQolO"
      },
      "source": [
        "#### **Define activation function**"
      ]
    },
    {
      "cell_type": "code",
      "metadata": {
        "id": "EmoJPJyzRKI0"
      },
      "source": [
        "def transfer(w, inputs):\n",
        "  # activation function: logistic sigmoid with a = 1\n",
        "  v = w[-1]\n",
        "  for i in range(len(w)-1):\n",
        "    v += w[i] * inputs[i]\n",
        "  phi = 1. / (1. + exp(-v))\n",
        "  return phi"
      ],
      "execution_count": 5,
      "outputs": []
    },
    {
      "cell_type": "markdown",
      "metadata": {
        "id": "z9Hji5R2Te4R"
      },
      "source": [
        "#### **Forward propagate**"
      ]
    },
    {
      "cell_type": "code",
      "metadata": {
        "id": "41H09uNHTdvL"
      },
      "source": [
        "def fwd_prop(net, row):\n",
        "  inputs = row\n",
        "  for layer in net:\n",
        "    new_inputs = []\n",
        "    for neuron in layer:\n",
        "      neuron['y'] = transfer(neuron['w'], inputs)\n",
        "      new_inputs.append(neuron['y'])\n",
        "    inputs = new_inputs\n",
        "  return inputs"
      ],
      "execution_count": 6,
      "outputs": []
    },
    {
      "cell_type": "markdown",
      "metadata": {
        "id": "ox4b7KY_gTVr"
      },
      "source": [
        "#### **Backward propagate error**"
      ]
    },
    {
      "cell_type": "code",
      "metadata": {
        "id": "YqyIMImagQLs"
      },
      "source": [
        "def bwd_prop_err(net, d):\n",
        "  for i in reversed(range(len(net))):\n",
        "    layer = net[i]\n",
        "    errors = list()\n",
        "    if i != len(net)-1:\n",
        "      for j in range(len(layer)):\n",
        "        error = 0.\n",
        "        for neuron in net[i + 1]:\n",
        "          error += (neuron['w'][j] * neuron['delta'])\n",
        "        errors.append(error)\n",
        "    else:\n",
        "      for j in range(len(layer)):\n",
        "        neuron = layer[j]\n",
        "        errors.append(d[j] - neuron['y'])\n",
        "    \n",
        "    for j in range(len(layer)):\n",
        "      neuron = layer[j]\n",
        "      phi_d = neuron['y'] * (1. - neuron['y'])\n",
        "      neuron['delta'] = errors[j] * phi_d"
      ],
      "execution_count": 7,
      "outputs": []
    },
    {
      "cell_type": "markdown",
      "metadata": {
        "id": "jCdmXESDkxkU"
      },
      "source": [
        "#### **Update weights**"
      ]
    },
    {
      "cell_type": "code",
      "metadata": {
        "id": "KMJbhNQbk3xv"
      },
      "source": [
        "def update_weights(net, row, lr):\n",
        "  for i in range(len(net)):\n",
        "    inputs = row[:-1]\n",
        "    if i != 0:\n",
        "      inputs = [neuron['y'] for neuron in net[i - 1]]\n",
        "    for neuron in net[i]:\n",
        "      for j in range(len(inputs)):\n",
        "        neuron['w'][j] += lr * neuron['delta'] * inputs[j]\n",
        "      neuron['w'][-1] += lr * neuron['delta']"
      ],
      "execution_count": 8,
      "outputs": []
    },
    {
      "cell_type": "markdown",
      "metadata": {
        "id": "a6sUI4At0nFT"
      },
      "source": [
        "#### **Train**"
      ]
    },
    {
      "cell_type": "code",
      "metadata": {
        "id": "UxBf9uGRw5Md"
      },
      "source": [
        "def train(net, data, lr, n_outputs):\n",
        "  epoch = 0\n",
        "  c = True\n",
        "  \n",
        "  # Train\n",
        "  while c:\n",
        "    epoch += 1\n",
        "    sum_error = 0\n",
        "    max_abs_error = 0\n",
        "    c = False\n",
        "    \n",
        "    # Randomization\n",
        "    shuffle(data)\n",
        "\n",
        "    # Online learning\n",
        "    for row in data:\n",
        "      outputs = fwd_prop(net, row)\n",
        "      d = row[-n_outputs:]\n",
        "      bwd_prop_err(net, d)\n",
        "      update_weights(net, row, lr)\n",
        "      \n",
        "      # Stopping criteria\n",
        "      sum_error += sum([(d[i]-outputs[i])**2 for i in range(n_outputs)])\n",
        "      if sum([abs(d[i]-outputs[i]) for i in range(n_outputs)]) > 0.05:\n",
        "        c = True\n",
        "      if sum([abs(d[i]-outputs[i]) for i in range(n_outputs)]) > max_abs_error:\n",
        "        max_abs_error = sum([abs(d[i]-outputs[i]) for i in range(n_outputs)])\n",
        "    print('>epoch=%d, lrate=%.3f, sum_error=%.3f, max_abs_error=%.3f' % (epoch, lr, sum_error, max_abs_error))"
      ],
      "execution_count": 97,
      "outputs": []
    },
    {
      "cell_type": "markdown",
      "metadata": {
        "id": "yhxHi56QUNpF"
      },
      "source": [
        "#### **Wrapper**"
      ]
    },
    {
      "cell_type": "code",
      "metadata": {
        "id": "cwxaj6lrIoEo"
      },
      "source": [
        "%cd \"/content/gdrive/My Drive/Colab Notebooks/cse5526\"\n",
        "n_inputs = 4  # Number of input neurons\n",
        "n_hidden = 4  # Number of hidden neurons\n",
        "n_outputs = 1 # Number of output neurons\n",
        "\n",
        "# Read training data\n",
        "with open(\"lab1-train.csv\", \"r\") as f:\n",
        "  data = []\n",
        "  for line in f:\n",
        "      data_line = line.rstrip().split(\",\")\n",
        "      data_line = [int(i) for i in data_line] \n",
        "      data.append(data_line)\n",
        "print(data)\n",
        "\n",
        "# Initialize network\n",
        "net = init_net(n_inputs, n_hidden, n_outputs)\n",
        "\n",
        "# Train\n",
        "train(net, data, 0.15, n_outputs)\n",
        "for layer in net:\n",
        "\tprint(layer)"
      ],
      "execution_count": null,
      "outputs": []
    }
  ]
}