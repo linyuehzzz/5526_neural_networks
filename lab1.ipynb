{
  "nbformat": 4,
  "nbformat_minor": 0,
  "metadata": {
    "colab": {
      "name": "lab1.ipynb",
      "provenance": [],
      "collapsed_sections": [],
      "authorship_tag": "ABX9TyOZ1F//GuJHyuRrgZmjT2rn",
      "include_colab_link": true
    },
    "kernelspec": {
      "name": "python3",
      "display_name": "Python 3"
    }
  },
  "cells": [
    {
      "cell_type": "markdown",
      "metadata": {
        "id": "view-in-github",
        "colab_type": "text"
      },
      "source": [
        "<a href=\"https://colab.research.google.com/github/linyuehzzz/5526_neural_networks/blob/master/lab1.ipynb\" target=\"_parent\"><img src=\"https://colab.research.google.com/assets/colab-badge.svg\" alt=\"Open In Colab\"/></a>"
      ]
    },
    {
      "cell_type": "markdown",
      "metadata": {
        "id": "CLJhv1Y15MCg",
        "colab_type": "text"
      },
      "source": [
        "##**Lab 1**\n",
        "This code implements a two-layer perceptron with the backpropagation algorithm to solve the parity problem.  \n",
        "Yue Lin (lin.3326 at osu.edu)  \n",
        "Created: 9/22/2020"
      ]
    },
    {
      "cell_type": "code",
      "metadata": {
        "id": "xIrvjAygIZpk",
        "colab_type": "code",
        "colab": {}
      },
      "source": [
        "from google.colab import drive\n",
        "drive.mount('/content/gdrive')"
      ],
      "execution_count": null,
      "outputs": []
    },
    {
      "cell_type": "markdown",
      "metadata": {
        "id": "qZfCMz4mFrKg",
        "colab_type": "text"
      },
      "source": [
        "#### **Set up libraries**"
      ]
    },
    {
      "cell_type": "code",
      "metadata": {
        "id": "ogeGJW01Ft-X",
        "colab_type": "code",
        "colab": {}
      },
      "source": [
        "from random import seed, uniform"
      ],
      "execution_count": null,
      "outputs": []
    },
    {
      "cell_type": "markdown",
      "metadata": {
        "id": "cqrVmS7mIrIU",
        "colab_type": "text"
      },
      "source": [
        "#### **Generate training data**"
      ]
    },
    {
      "cell_type": "markdown",
      "metadata": {
        "id": "RmrjfG8aFulk",
        "colab_type": "text"
      },
      "source": [
        "#### **Initialize network**"
      ]
    },
    {
      "cell_type": "code",
      "metadata": {
        "id": "16Lgc_AZC1Rv",
        "colab_type": "code",
        "colab": {}
      },
      "source": [
        "def initialize_network(n_inputs, n_hidden, n_outputs):\n",
        "\tnetwork = list()\n",
        "\thidden_layer = [{'weights':[uniform(-1, 1) for i in range(n_inputs + 1)]} for i in range(n_hidden)]\n",
        "\tnetwork.append(hidden_layer)\n",
        "\toutput_layer = [{'weights':[uniform(-1, 1) for i in range(n_hidden + 1)]} for i in range(n_outputs)]\n",
        "\tnetwork.append(output_layer)\n",
        "\treturn network\n",
        " \n",
        "seed(1)\n",
        "network = initialize_network(4, 4, 1)\n",
        "for layer in network:\n",
        "\tprint(layer)"
      ],
      "execution_count": null,
      "outputs": []
    }
  ]
}