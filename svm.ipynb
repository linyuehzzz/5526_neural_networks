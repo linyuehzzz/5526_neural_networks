{
  "nbformat": 4,
  "nbformat_minor": 0,
  "metadata": {
    "colab": {
      "name": "svm.ipynb",
      "provenance": [],
      "collapsed_sections": [],
      "authorship_tag": "ABX9TyOgja5msyLlp+8o0tnL4fVT",
      "include_colab_link": true
    },
    "kernelspec": {
      "name": "python3",
      "display_name": "Python 3"
    }
  },
  "cells": [
    {
      "cell_type": "markdown",
      "metadata": {
        "id": "view-in-github",
        "colab_type": "text"
      },
      "source": [
        "<a href=\"https://colab.research.google.com/github/linyuehzzz/5526_neural_networks/blob/master/svm.ipynb\" target=\"_parent\"><img src=\"https://colab.research.google.com/assets/colab-badge.svg\" alt=\"Open In Colab\"/></a>"
      ]
    },
    {
      "cell_type": "markdown",
      "metadata": {
        "id": "gOJnVAClBAyE"
      },
      "source": [
        "##**Lab 3**\n",
        "This code trains an SVM to determine if a genomic sequence is an ncRNA..  \n",
        "Yue Lin (lin.3326 at osu.edu)  \n",
        "Created: 11/2/2020"
      ]
    },
    {
      "cell_type": "code",
      "metadata": {
        "id": "UFhoWl_Q_uLZ"
      },
      "source": [
        ""
      ],
      "execution_count": null,
      "outputs": []
    }
  ]
}