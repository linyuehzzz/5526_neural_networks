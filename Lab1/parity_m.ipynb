{
  "nbformat": 4,
  "nbformat_minor": 0,
  "metadata": {
    "colab": {
      "name": "parity_m.ipynb",
      "provenance": [],
      "collapsed_sections": [],
      "toc_visible": true,
      "authorship_tag": "ABX9TyP1KsVctHcfISCoZaN4jxmx",
      "include_colab_link": true
    },
    "kernelspec": {
      "name": "python3",
      "display_name": "Python 3"
    }
  },
  "cells": [
    {
      "cell_type": "markdown",
      "metadata": {
        "id": "view-in-github",
        "colab_type": "text"
      },
      "source": [
        "<a href=\"https://colab.research.google.com/github/linyuehzzz/5526_neural_networks/blob/master/parity_m.ipynb\" target=\"_parent\"><img src=\"https://colab.research.google.com/assets/colab-badge.svg\" alt=\"Open In Colab\"/></a>"
      ]
    },
    {
      "cell_type": "markdown",
      "metadata": {
        "id": "CLJhv1Y15MCg"
      },
      "source": [
        "##**Lab 1**\n",
        "This code implements a two-layer perceptron with the backpropagation algorithm to solve the parity problem. Using a momentum term for learning rate control.  \n",
        "Yue Lin (lin.3326 at osu.edu)  \n",
        "Created: 9/26/2020"
      ]
    },
    {
      "cell_type": "code",
      "metadata": {
        "id": "xIrvjAygIZpk",
        "outputId": "3186b24f-0c58-44ef-989f-25c7b9b77c56",
        "colab": {
          "base_uri": "https://localhost:8080/",
          "height": 35
        }
      },
      "source": [
        "from google.colab import drive\n",
        "drive.mount('/content/gdrive')"
      ],
      "execution_count": 5,
      "outputs": [
        {
          "output_type": "stream",
          "text": [
            "Mounted at /content/gdrive\n"
          ],
          "name": "stdout"
        }
      ]
    },
    {
      "cell_type": "markdown",
      "metadata": {
        "id": "qZfCMz4mFrKg"
      },
      "source": [
        "#### **Set up libraries**"
      ]
    },
    {
      "cell_type": "code",
      "metadata": {
        "id": "ogeGJW01Ft-X"
      },
      "source": [
        "from random import seed, randrange, uniform, shuffle\n",
        "from math import exp\n",
        "import csv\n",
        "import copy"
      ],
      "execution_count": 16,
      "outputs": []
    },
    {
      "cell_type": "markdown",
      "metadata": {
        "id": "cqrVmS7mIrIU"
      },
      "source": [
        "#### **Generate training data**"
      ]
    },
    {
      "cell_type": "code",
      "metadata": {
        "id": "cVq3ETC8I7J8"
      },
      "source": [
        "def generate_data(n_inputs, n):\n",
        "  data = []\n",
        "  for i in range(n):\n",
        "    x = []\n",
        "    for j in range(n_inputs):\n",
        "      x.append(randrange(2))\n",
        "    if x.count(1) % 2 == 0:\n",
        "      x.append(0)\n",
        "    else:\n",
        "      x.append(1)\n",
        "    data.append(x)\n",
        "  return data"
      ],
      "execution_count": 17,
      "outputs": []
    },
    {
      "cell_type": "markdown",
      "metadata": {
        "id": "RmrjfG8aFulk"
      },
      "source": [
        "#### **Initialize network**"
      ]
    },
    {
      "cell_type": "code",
      "metadata": {
        "id": "16Lgc_AZC1Rv"
      },
      "source": [
        "def init_net(n_inputs, n_hidden, n_outputs):\n",
        "  net = list()\n",
        "  hidden_layer = [{'w':[uniform(-1, 1) for i in range(n_inputs + 1)], \n",
        "                   'c':[0 for i in range(n_inputs + 1)]} \n",
        "                  for i in range(n_hidden)]\n",
        "  net.append(hidden_layer)\n",
        "  output_layer = [{'w':[uniform(-1, 1) for i in range(n_hidden + 1)],\n",
        "                   'c':[0 for i in range(n_inputs + 1)]} \n",
        "                  for i in range(n_outputs)]\n",
        "  net.append(output_layer)\n",
        "  return net"
      ],
      "execution_count": 18,
      "outputs": []
    },
    {
      "cell_type": "markdown",
      "metadata": {
        "id": "rYybqFCpQolO"
      },
      "source": [
        "#### **Define activation function**"
      ]
    },
    {
      "cell_type": "code",
      "metadata": {
        "id": "EmoJPJyzRKI0"
      },
      "source": [
        "def transfer(w, inputs):\n",
        "  # activation function: logistic sigmoid with a = 1\n",
        "  v = w[-1]\n",
        "  for i in range(len(w)-1):\n",
        "    v += w[i] * inputs[i]\n",
        "  phi = 1. / (1. + exp(-v))\n",
        "  return phi"
      ],
      "execution_count": 19,
      "outputs": []
    },
    {
      "cell_type": "markdown",
      "metadata": {
        "id": "z9Hji5R2Te4R"
      },
      "source": [
        "#### **Forward propagate**"
      ]
    },
    {
      "cell_type": "code",
      "metadata": {
        "id": "41H09uNHTdvL"
      },
      "source": [
        "def fwd_prop(net, row):\n",
        "  inputs = row\n",
        "  for layer in net:\n",
        "    new_inputs = []\n",
        "    for neuron in layer:\n",
        "      neuron['y'] = transfer(neuron['w'], inputs)\n",
        "      new_inputs.append(neuron['y'])\n",
        "    inputs = new_inputs\n",
        "  return inputs"
      ],
      "execution_count": 20,
      "outputs": []
    },
    {
      "cell_type": "markdown",
      "metadata": {
        "id": "ox4b7KY_gTVr"
      },
      "source": [
        "#### **Backward propagate error**"
      ]
    },
    {
      "cell_type": "code",
      "metadata": {
        "id": "YqyIMImagQLs"
      },
      "source": [
        "def bwd_prop_err(net, d):\n",
        "  for i in reversed(range(len(net))):\n",
        "    layer = net[i]\n",
        "    errors = list()\n",
        "    if i != len(net)-1:\n",
        "      for j in range(len(layer)):\n",
        "        error = 0.\n",
        "        for neuron in net[i + 1]:\n",
        "          error += (neuron['w'][j] * neuron['delta'])\n",
        "        errors.append(error)\n",
        "    else:\n",
        "      for j in range(len(layer)):\n",
        "        neuron = layer[j]\n",
        "        errors.append(d[j] - neuron['y'])\n",
        "    \n",
        "    for j in range(len(layer)):\n",
        "      neuron = layer[j]\n",
        "      phi_d = neuron['y'] * (1. - neuron['y'])\n",
        "      neuron['delta'] = errors[j] * phi_d"
      ],
      "execution_count": 21,
      "outputs": []
    },
    {
      "cell_type": "markdown",
      "metadata": {
        "id": "jCdmXESDkxkU"
      },
      "source": [
        "#### **Update weights**"
      ]
    },
    {
      "cell_type": "code",
      "metadata": {
        "id": "KMJbhNQbk3xv"
      },
      "source": [
        "def update_weights(net, row, lr, alpha):\n",
        "  for i in range(len(net)):\n",
        "    inputs = row[:-1]\n",
        "    if i != 0:\n",
        "      inputs = [neuron['y'] for neuron in net[i - 1]]\n",
        "    for neuron in net[i]:\n",
        "      for j in range(len(inputs)):\n",
        "        neuron['w'][j] += lr * neuron['delta'] * inputs[j] + alpha * neuron['c'][j]\n",
        "        neuron['c'][j] = lr * neuron['delta'] * inputs[j] + alpha * neuron['c'][j]\n",
        "      neuron['w'][-1] += lr * neuron['delta'] + alpha * neuron['c'][-1]\n",
        "      neuron['c'][-1] = lr * neuron['delta'] + alpha * neuron['c'][-1]"
      ],
      "execution_count": 36,
      "outputs": []
    },
    {
      "cell_type": "markdown",
      "metadata": {
        "id": "a6sUI4At0nFT"
      },
      "source": [
        "#### **Train**"
      ]
    },
    {
      "cell_type": "code",
      "metadata": {
        "id": "UxBf9uGRw5Md"
      },
      "source": [
        "def train(net, data, lr, alpha, n_outputs):\n",
        "  epoch = 0\n",
        "  c = True\n",
        "  \n",
        "  # Train\n",
        "  while c:\n",
        "    epoch += 1\n",
        "    sum_error = 0\n",
        "    max_abs_error = 0\n",
        "    c = False\n",
        "    \n",
        "    # Randomization\n",
        "    shuffle(data)\n",
        "\n",
        "    # Online learning\n",
        "    for row in data:\n",
        "      outputs = fwd_prop(net, row)\n",
        "      d = row[-n_outputs:]\n",
        "      bwd_prop_err(net, d)\n",
        "      update_weights(net, row, lr, alpha)\n",
        "      \n",
        "      # Stopping criteria\n",
        "      sum_error += sum([(d[i]-outputs[i])**2 for i in range(n_outputs)])\n",
        "      if sum([abs(d[i]-outputs[i]) for i in range(n_outputs)]) > max_abs_error:\n",
        "        max_abs_error = sum([abs(d[i]-outputs[i]) for i in range(n_outputs)])\n",
        "      if max_abs_error > 0.05:\n",
        "        c = True\n",
        "    print('>epoch=%d, lrate=%.3f, sum_error=%.3f, max_abs_error=%.3f' \n",
        "          % (epoch, lr, sum_error, max_abs_error))"
      ],
      "execution_count": 23,
      "outputs": []
    },
    {
      "cell_type": "markdown",
      "metadata": {
        "id": "yhxHi56QUNpF"
      },
      "source": [
        "#### **Wrapper**"
      ]
    },
    {
      "cell_type": "markdown",
      "metadata": {
        "id": "0nnsgfsRcraB"
      },
      "source": [
        "Initialize"
      ]
    },
    {
      "cell_type": "code",
      "metadata": {
        "id": "cwxaj6lrIoEo",
        "outputId": "48f42fe0-0daa-4ffa-c81c-668907ee8d52",
        "colab": {
          "base_uri": "https://localhost:8080/",
          "height": 107
        }
      },
      "source": [
        "%cd \"/content/gdrive/My Drive/Colab Notebooks/cse5526\"\n",
        "n_inputs = 4  # Number of input neurons\n",
        "n_hidden = 4  # Number of hidden neurons\n",
        "n_outputs = 1 # Number of output neurons\n",
        "\n",
        "# Read training data\n",
        "with open(\"lab1-train.csv\", \"r\") as f:\n",
        "  data = []\n",
        "  for line in f:\n",
        "      data_line = line.rstrip().split(\",\")\n",
        "      data_line = [int(i) for i in data_line] \n",
        "      data.append(data_line)\n",
        "print(data)\n",
        "\n",
        "# Initialize network\n",
        "net = init_net(n_inputs, n_hidden, n_outputs)\n",
        "for layer in net:\n",
        "\tprint(layer)"
      ],
      "execution_count": 24,
      "outputs": [
        {
          "output_type": "stream",
          "text": [
            "/content/gdrive/My Drive/Colab Notebooks/cse5526\n",
            "[[0, 0, 0, 0, 0], [1, 0, 0, 0, 1], [0, 1, 0, 0, 1], [0, 0, 1, 0, 1], [0, 0, 0, 1, 1], [1, 1, 0, 0, 0], [1, 0, 1, 0, 0], [1, 0, 0, 1, 0], [0, 1, 1, 0, 0], [0, 1, 0, 1, 0], [0, 0, 1, 1, 0], [1, 1, 1, 0, 1], [1, 1, 0, 1, 1], [1, 0, 1, 1, 1], [0, 1, 1, 1, 1], [1, 1, 1, 1, 0]]\n",
            "[{'w': [0.31025455389476186, -0.530280346740019, -0.13145262777309408, 0.6894259929863558, 0.7120990928406843], 'c': [0, 0, 0, 0, 0]}, {'w': [-0.4256177518266626, -0.9006391130495479, 0.3806213156939955, 0.3996276492239996, 0.6795059335429632], 'c': [0, 0, 0, 0, 0]}, {'w': [0.7704485061774766, -0.09080120365921274, 0.24558817574709635, 0.5816017624856809, -0.48640460697412347], 'c': [0, 0, 0, 0, 0]}, {'w': [0.7403329117832156, 0.861950289801368, -0.14882222772496267, 0.894085415305663, -0.19213968054772512], 'c': [0, 0, 0, 0, 0]}]\n",
            "[{'w': [0.06959451135705486, -0.08134472946497784, 0.15824049183046096, -0.2680006196420921, 0.8793750536927958], 'c': [0, 0, 0, 0, 0]}]\n"
          ],
          "name": "stdout"
        }
      ]
    },
    {
      "cell_type": "markdown",
      "metadata": {
        "id": "mjm_Mdg0cu24"
      },
      "source": [
        "Print initialized weights"
      ]
    },
    {
      "cell_type": "code",
      "metadata": {
        "id": "6E61SYGIcjHi",
        "outputId": "c0ff9b10-2b5a-43fd-a214-9be7e357d702",
        "colab": {
          "base_uri": "https://localhost:8080/",
          "height": 72
        }
      },
      "source": [
        "net = [ [{'w': [0.023751897144906442, 0.5439181010827554, 0.7949939709979394, \n",
        "                0.5575722128060299, -0.0833224505320811], 'c': [0, 0, 0, 0, 0]}, \n",
        "         {'w': [-0.42994177241818776, 0.21188832212031072, 0.8223560150844227, \n",
        "                0.8774539980092704, 0.31816289627719896], 'c': [0, 0, 0, 0, 0]}, \n",
        "         {'w': [0.1714638576679366, 0.6385710100729274, -0.715278099957847, \n",
        "                0.08266885375715938, -0.22296262982508863], 'c': [0, 0, 0, 0, 0]}, \n",
        "         {'w': [-0.8943826130758457, 0.07003766731452088, -0.9945608691130916, \n",
        "                0.028556706695230805, -0.17212852084981978], 'c': [0, 0, 0, 0, 0]}],\n",
        "         [{'w': [-0.6504348668157289, 0.1059724636195516, -0.4211953496188985, \n",
        "                 -0.7266794062610493, -0.8039881319466737], 'c': [0, 0, 0, 0, 0]}]]\n",
        "for layer in net:\n",
        "\tprint(layer)"
      ],
      "execution_count": 37,
      "outputs": [
        {
          "output_type": "stream",
          "text": [
            "[{'w': [0.023751897144906442, 0.5439181010827554, 0.7949939709979394, 0.5575722128060299, -0.0833224505320811], 'c': [0, 0, 0, 0, 0]}, {'w': [-0.42994177241818776, 0.21188832212031072, 0.8223560150844227, 0.8774539980092704, 0.31816289627719896], 'c': [0, 0, 0, 0, 0]}, {'w': [0.1714638576679366, 0.6385710100729274, -0.715278099957847, 0.08266885375715938, -0.22296262982508863], 'c': [0, 0, 0, 0, 0]}, {'w': [-0.8943826130758457, 0.07003766731452088, -0.9945608691130916, 0.028556706695230805, -0.17212852084981978], 'c': [0, 0, 0, 0, 0]}]\n",
            "[{'w': [-0.6504348668157289, 0.1059724636195516, -0.4211953496188985, -0.7266794062610493, -0.8039881319466737], 'c': [0, 0, 0, 0, 0]}]\n"
          ],
          "name": "stdout"
        }
      ]
    },
    {
      "cell_type": "markdown",
      "metadata": {
        "id": "vtwngkcgcy-d"
      },
      "source": [
        "Train"
      ]
    },
    {
      "cell_type": "code",
      "metadata": {
        "id": "ArasNc6VEOPu"
      },
      "source": [
        "lr = 0.05\n",
        "alpha = 0.9\n",
        "\n",
        "# Train\n",
        "inet = copy.deepcopy(net)\n",
        "train(inet, data, lr, alpha, n_outputs)\n",
        "for layer in inet:\n",
        "\tprint(layer)"
      ],
      "execution_count": null,
      "outputs": []
    }
  ]
}